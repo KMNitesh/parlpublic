{
 "cells": [
  {
   "cell_type": "code",
   "execution_count": 1,
   "metadata": {},
   "outputs": [],
   "source": [
    "%matplotlib inline"
   ]
  },
  {
   "cell_type": "markdown",
   "metadata": {},
   "source": [
    "\n",
    "# Procedure graphs (and the handshaking theorem)\n",
    "\n",
    "Our team recently made some ontologies for statutory instruments for an SI tracker in time for Brexit secondary legislation. \n",
    "\n",
    "You can represent procedures in many ways (say, different RDF serialization formats or different tree/graph data structures). But often the most intuitive way of explaining it is just to draw out the steps and show how they lead to other steps. \n",
    "\n",
    "This is a form of directed cyclic graph -- you can think of procedures as many dyads (\"procedure routes\") with two nodes which are from and to steps (\"procedure steps\"). There's direction (a step causes/allows/precludes another etc), hence directed. And there are self-loops, hence cyclic.\n",
    "\n",
    "For work I tried turning this graph into different types of graph formats. E.g. \n",
    "Graphviz/DOT ([docs](https://www.graphviz.org/)): [procedures.azurewebsites.net/procedures/4/graph.dot](http://procedures.azurewebsites.net/procedures/4/graph.dot) and \n",
    "GraphML ([docs](http://graphml.graphdrawing.org/primer/graphml-primer.html)): [procedures.azurewebsites.net/procedures/4/graph.graphml](http://procedures.azurewebsites.net/procedures/4/graph.graphml).\n",
    "\n",
    "Along the way, I discovered some interesting tidbits of how we commonly represent and analyze graphs. So this is my brief forray into the massive universe of network analysis...\n",
    "\n",
    "### First, fetch the data"
   ]
  },
  {
   "cell_type": "code",
   "execution_count": 2,
   "metadata": {},
   "outputs": [
    {
     "name": "stdout",
     "output_type": "stream",
     "text": [
      "200\n"
     ]
    }
   ],
   "source": [
    "import requests\n",
    "\n",
    "r = requests.get(\"http://procedures.azurewebsites.net/Procedures/4/graph.graphml\")\n",
    "print r.status_code\n",
    "with open('procedure.graphml', 'w') as f:\n",
    "    f.write(r.text)"
   ]
  },
  {
   "cell_type": "markdown",
   "metadata": {},
   "source": [
    "I'd been told by people who study networks that GraphML is one of the preferred formats. It's XML-based, fairly straight forward, and can be loaded into and out of common tools like Gephi, yEd, etc.\n",
    "\n",
    "I wanted to try loading it into `networkx`, a sexy python package that seems to have a lot of built-in graph analysis functionality, without the need to download a local software GUI etc. I decided to use a slightly older version of the package (when their read_graphml function was more lax) which isn't compatible with python 3+ why this is in python 2.7.. The `read_graphml` method only take file paths, so it's saved to disk instead of loaded from memory.\n",
    "\n",
    "Since it's an XML format, you can parse the data in that format if you want to. Here are 5 edges with their vertices, e.g.."
   ]
  },
  {
   "cell_type": "code",
   "execution_count": 3,
   "metadata": {},
   "outputs": [
    {
     "name": "stdout",
     "output_type": "stream",
     "text": [
      "<Element '{http://graphml.graphdrawing.org/xmlns}graph' at 0xa072048>\n",
      "https://id.parliament.uk/M28y2NsI --> https://id.parliament.uk/nveorPPO\n",
      "https://id.parliament.uk/nveorPPO --> https://id.parliament.uk/EQvIVxb9\n",
      "https://id.parliament.uk/1MbmuIMm --> https://id.parliament.uk/M28y2NsI\n",
      "https://id.parliament.uk/nveorPPO --> https://id.parliament.uk/dnWpdwUf\n",
      "https://id.parliament.uk/WdiOAL9I --> https://id.parliament.uk/ADYK7qyp\n"
     ]
    }
   ],
   "source": [
    "from xml.etree import ElementTree as ET\n",
    "import itertools\n",
    "\n",
    "root = ET.fromstring(r.text)\n",
    "graph = root[1]\n",
    "print graph\n",
    "\n",
    "ns = {'graphml': 'http://graphml.graphdrawing.org/xmlns'}\n",
    "    \n",
    "for route in itertools.islice(graph.findall('graphml:edge', ns), 40, 45):\n",
    "    fromStep = route.get('source')\n",
    "    toStep = route.get('target')\n",
    "    print fromStep,'-->', toStep"
   ]
  },
  {
   "cell_type": "markdown",
   "metadata": {},
   "source": [
    "### Load into networkx"
   ]
  },
  {
   "cell_type": "code",
   "execution_count": 4,
   "metadata": {},
   "outputs": [
    {
     "name": "stdout",
     "output_type": "stream",
     "text": [
      "Name: \n",
      "Type: DiGraph\n",
      "Number of nodes: 46\n",
      "Number of edges: 103\n",
      "Average in degree:   2.2391\n",
      "Average out degree:   2.2391\n"
     ]
    }
   ],
   "source": [
    "import networkx as nx\n",
    "\n",
    "G = nx.read_graphml(\"procedure.graphml\")\n",
    "print nx.info(G)"
   ]
  },
  {
   "cell_type": "markdown",
   "metadata": {},
   "source": [
    "### Plot a degree count histogram\n",
    "\n",
    "One of the most common ways to describe a graph is its degree distribution. \n",
    "\n",
    "For each vertex degree count is simply the count of the number of edges (in/out) connected to it. And degree centrality weights this with num of nodes, so it's fraction of nodes (0-1). "
   ]
  },
  {
   "cell_type": "code",
   "execution_count": 9,
   "metadata": {},
   "outputs": [
    {
     "data": {
      "image/png": "[encoded data removed]",
      "text/plain": [
       "<Figure size 432x288 with 2 Axes>"
      ]
     },
     "metadata": {},
     "output_type": "display_data"
    }
   ],
   "source": [
    "from collections import Counter \n",
    "import matplotlib.pyplot as plt\n",
    "\n",
    "def get_degree_dist(G):\n",
    "    degree_sequence = sorted(list(G.degree().values()), reverse=True) \n",
    "    return Counter(degree_sequence)\n",
    "\n",
    "def plot_degree_hist(G):\n",
    "    if not isinstance(G, Counter):\n",
    "        g = get_degree_dist(G)\n",
    "    \n",
    "    degree, count = zip(*g.items())\n",
    "\n",
    "    fig, ax = plt.subplots()\n",
    "    plt.bar(degree, count, width=0.80, color='b')\n",
    "\n",
    "    plt.title(\"Degree Histogram\")\n",
    "    plt.ylabel(\"Count\")\n",
    "    plt.xlabel(\"Degree\")\n",
    "    ax.set_xticks([d + 0.4 for d in degree])\n",
    "    ax.set_xticklabels(degree)\n",
    "\n",
    "    # draw graph in inset\n",
    "    plt.axes([0.4, 0.4, 0.5, 0.5])\n",
    "    Gcc = sorted(nx.weakly_connected_component_subgraphs(G), key=len, reverse=True)[0]\n",
    "    pos = nx.spring_layout(G)\n",
    "    plt.axis('off')\n",
    "    nx.draw_networkx_nodes(G, pos, node_size=20)\n",
    "    nx.draw_networkx_edges(G, pos, alpha=0.4)\n",
    "\n",
    "    plt.show()\n",
    "    \n",
    "plot_degree_hist(G)"
   ]
  },
  {
   "cell_type": "markdown",
   "metadata": {},
   "source": [
    "Can see it's bit right skewed, There's a tail so may be \"hubs\" (a few very well connected nodes which you don't see in a random graph). \n",
    "\n",
    "If there's a power law distribution, these graphs are called \"[scale-free](https://mathinsight.org/scale_free_network)\" (presence of large hubs). For larger sized graphs, can plot log-log of the fraction of nodes against degree. Look for a downward linear relationship to confirm.\n",
    "\n",
    "Refer to [docs](https://networkx.github.io/documentation/stable/auto_examples/drawing/plot_degree_histogram.html) for more. \n",
    "\n",
    "### There're other centrality measures:"
   ]
  },
  {
   "cell_type": "code",
   "execution_count": 6,
   "metadata": {},
   "outputs": [
    {
     "name": "stdout",
     "output_type": "stream",
     "text": [
      "Nodes with highest\n",
      "Degree: ('https://id.parliament.uk/ORYEPBmc', 10)\n",
      "Degree centrality: ('https://id.parliament.uk/ORYEPBmc', 0.22222222222222224)\n",
      "Closeness centrality: ('https://id.parliament.uk/wShvPQbP', 0.21226415094339623)\n",
      "Eigenvector centrality: ('https://id.parliament.uk/JqzvdWEL', 0.9629050673674792)\n",
      "Betweenness centrality: ('https://id.parliament.uk/nVheFQgh', 0.10505050505050505)\n"
     ]
    }
   ],
   "source": [
    "import operator\n",
    "print \"Nodes with highest\"\n",
    "\n",
    "# Most well-connected\n",
    "print \"Degree:\", sorted(nx.degree(G).items(), key=operator.itemgetter(1), reverse=True)[0]\n",
    "print \"Degree centrality:\", sorted(nx.degree_centrality(G).items(), key=operator.itemgetter(1), reverse=True)[0]\n",
    "\n",
    "# \"How quickly anyone can get to it\" - ave length of shortest path between node and all other nodes in graph\n",
    "print \"Closeness centrality:\", sorted(nx.closeness_centrality(G).items(), key=operator.itemgetter(1), reverse=True)[0]\n",
    "\n",
    "# Most \"influence\" - measures connection to better-connected/ high-scoring nodes\n",
    "print \"Eigenvector centrality:\", sorted(nx.eigenvector_centrality_numpy(G).items(), key=operator.itemgetter(1), reverse=True)[0]\n",
    "\n",
    "# \"How central\" - measures how many times node acts as a bridge in shortest path\n",
    "print \"Betweenness centrality:\", sorted(nx.betweenness_centrality(G).items(), key=operator.itemgetter(1), reverse=True)[0]"
   ]
  },
  {
   "cell_type": "markdown",
   "metadata": {},
   "source": [
    "Pick the right centrality measure to use for a particular graph. But note there are criticisms of these measures too, because connection != influence. So these centrality measures of nodes may not capture importance of edges. \n",
    "\n",
    "And besides centrality measures there's assortativity to measure core vs periphery. \n",
    "\n",
    "### If you want to draw it..."
   ]
  },
  {
   "cell_type": "code",
   "execution_count": 10,
   "metadata": {},
   "outputs": [
    {
     "data": {
      "image/png": "[encoded data removed]",
      "text/plain": [
       "<Figure size 432x288 with 1 Axes>"
      ]
     },
     "metadata": {},
     "output_type": "display_data"
    }
   ],
   "source": [
    "from __future__ import division\n",
    "\n",
    "pos = nx.layout.spring_layout(G)\n",
    "\n",
    "node_sizes = [0 + 4 * i for i in range(len(G))]\n",
    "M = G.number_of_edges()\n",
    "edge_colors = range(2, M + 2)\n",
    "edge_alphas = [(5 + i) / (M + 4) for i in range(M)]\n",
    "\n",
    "nodes = nx.draw_networkx_nodes(G, pos, node_size=node_sizes, node_color='blue')\n",
    "edges = nx.draw_networkx_edges(G, pos, node_size=node_sizes, arrowstyle='->',\n",
    "                               arrowsize=10, edge_color=edge_colors,\n",
    "                               edge_cmap=plt.cm.Blues, width=1)\n",
    "\n",
    "ax = plt.gca()\n",
    "ax.set_axis_off()\n",
    "plt.show()"
   ]
  },
  {
   "cell_type": "markdown",
   "metadata": {},
   "source": [
    "Or just load it into Gephi/ yEd etc. Can tweak ways to show attributes /topology/ layout algorithms. Viz tends to look better there. Or d3\n",
    "\n",
    "### Or export it to other common data structures \n",
    "\n",
    "e.g you may want an adjacency matrix if you want to do DFS (which you can't do with edgelists)."
   ]
  },
  {
   "cell_type": "code",
   "execution_count": 8,
   "metadata": {},
   "outputs": [
    {
     "data": {
      "text/plain": [
       "matrix([[1., 0., 0., ..., 0., 0., 0.],\n",
       "        [0., 0., 0., ..., 0., 0., 0.],\n",
       "        [0., 0., 1., ..., 0., 0., 0.],\n",
       "        ...,\n",
       "        [0., 0., 0., ..., 1., 0., 0.],\n",
       "        [0., 0., 0., ..., 0., 0., 0.],\n",
       "        [0., 0., 0., ..., 0., 0., 1.]])"
      ]
     },
     "execution_count": 8,
     "metadata": {},
     "output_type": "execute_result"
    }
   ],
   "source": [
    "# nx.to_edgelist(G)\n",
    "nx.to_numpy_matrix(G)"
   ]
  },
  {
   "cell_type": "markdown",
   "metadata": {},
   "source": [
    "### And.. Handshaking theorem\n",
    "\n",
    "One last thing -- notice average in and out degrees were the same?\n",
    "\n",
    "`Average in degree:   2.2391\n",
    "Average out degree:   2.2391`\n",
    "\n",
    "Apparently for all graphs, sum of in degree = sum of out degree, according to the [Handshaking Theorem](https://en.wikipedia.org/wiki/Handshaking_lemma)!\n",
    "\n",
    "Scenario: People shake hands in a room and individually keep count of how many people shook hands with (degree). \n",
    "- Sum of everyone's handshakes count = 2e, where e = # of edges\n",
    "- There'll be an even number of people whose indiv count is odd (\"even odd degree\")\n",
    "\n",
    "If we think of handshaking as directed (like our directed graph here)\n",
    "- (sum of everyone's in degree) and (sum of everyone's out degrees) are the same! (each e, # of edges)\n",
    "\n",
    "Like in NBA, if teams can't draw, and each team plays same # of games (E being games and V being teams), summing all teams' indiv winning counts == summing all teams' indiv losing counts. i.e. Can think of it as each E (game) must always generate both an in and an out V (winner, loser).\n",
    "\n",
    "True even if there are multiple edges and self-loops! ([More](http://www.math.northwestern.edu/~mlerma/courses/cs310-05s/notes/dm-graphs) [Math](https://math.stackexchange.com/questions/2444078/handshaking-lemma-and-existence-of-the-graph)!)\n"
   ]
  }
 ],
 "metadata": {
  "kernelspec": {
   "display_name": "Python 2",
   "language": "python",
   "name": "python2"
  },
  "language_info": {
   "codemirror_mode": {
    "name": "ipython",
    "version": 2
   },
   "file_extension": ".py",
   "mimetype": "text/x-python",
   "name": "python",
   "nbconvert_exporter": "python",
   "pygments_lexer": "ipython2",
   "version": "2.7.14"
  }
 },
 "nbformat": 4,
 "nbformat_minor": 1
}
